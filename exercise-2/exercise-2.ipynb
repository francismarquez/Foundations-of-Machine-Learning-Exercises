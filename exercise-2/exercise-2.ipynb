{
 "metadata": {
  "language_info": {
   "codemirror_mode": {
    "name": "ipython",
    "version": 3
   },
   "file_extension": ".py",
   "mimetype": "text/x-python",
   "name": "python",
   "nbconvert_exporter": "python",
   "pygments_lexer": "ipython3",
   "version": "3.8.5-final"
  },
  "orig_nbformat": 2,
  "kernelspec": {
   "name": "python_defaultSpec_1603401089997",
   "display_name": "Python 3.8.5 64-bit ('Foundations-of-Machine-Learning-Exercises': pipenv)",
   "metadata": {
    "interpreter": {
     "hash": "767d51c1340bd893661ea55ea3124f6de3c7a262a8b4abca0554b478b1e2ff90"
    }
   }
  }
 },
 "nbformat": 4,
 "nbformat_minor": 2,
 "cells": [
  {
   "source": [
    "# Solution\n",
    "---"
   ],
   "cell_type": "markdown",
   "metadata": {}
  },
  {
   "source": [
    "from utils import sigmoid, relu, slice_dataset\n",
    "import numpy as np  \n",
    "import matplotlib.pyplot as plt"
   ],
   "cell_type": "code",
   "metadata": {
    "tags": []
   },
   "execution_count": 15,
   "outputs": []
  },
  {
   "cell_type": "code",
   "execution_count": 16,
   "metadata": {
    "tags": []
   },
   "outputs": [
    {
     "output_type": "stream",
     "name": "stdout",
     "text": "0\n"
    }
   ],
   "source": [
    "# mu = float(input(\"Enter mean:\"))\n",
    "# print('Mean:', mu)\n",
    "\n",
    "# sigma = float(input(\"Enter standard deviation:\"))\n",
    "# print('Standard Deviation:', sigma)\n",
    "\n",
    "mu = 0.0\n",
    "sigma = 0.1\n",
    "\n",
    "# make normal distribution for user input parameters\n",
    "dataset = np.random.normal(mu, sigma, 10)\n",
    "\n",
    "# count, bins, ignored = plt.hist(dataset, 30, density=True)\n",
    "# plt.plot(bins, 1/(sigma * np.sqrt(2 * np.pi)) *\n",
    "#                np.exp( - (bins - mu)**2 / (2 * sigma**2) ),\n",
    "#          linewidth=2, color='r')\n",
    "# plt.show()\n",
    "\n",
    "print(slice_dataset(dataset, -2*sigma, 2*sigma))"
   ]
  },
  {
   "cell_type": "code",
   "execution_count": null,
   "metadata": {},
   "outputs": [],
   "source": []
  }
 ]
}